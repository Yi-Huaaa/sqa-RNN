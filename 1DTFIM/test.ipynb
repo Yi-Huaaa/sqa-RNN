{
 "cells": [
  {
   "cell_type": "code",
   "execution_count": 1,
   "id": "eb055d58",
   "metadata": {},
   "outputs": [
    {
     "name": "stdout",
     "output_type": "stream",
     "text": [
      "WARNING:tensorflow:From /home/yhc/tfpip/lib/python3.6/site-packages/tensorflow/python/compat/v2_compat.py:96: disable_resource_variables (from tensorflow.python.ops.variable_scope) is deprecated and will be removed in a future version.\n",
      "Instructions for updating:\n",
      "non-resource variables are not supported in the long term\n",
      "cell type:  <class 'tensorflow.python.keras.layers.recurrent.SimpleRNNCell'>\n",
      "activation Functions <function elu at 0x7fcf0866f048>\n",
      "mean(E): -59.783399384730586, var(E): 54.81622811318318, #samples 50, #Step 0 \n",
      "\n",
      "\n",
      "mean(E): -64.51535371530879, var(E): 19.922080063708904, #samples 50, #Step 10 \n",
      "\n",
      "\n",
      "cell type:  <class 'tensorflow.python.keras.layers.recurrent.GRUCell'>\n",
      "activation Functions <function elu at 0x7fcf0866f048>\n",
      "mean(E): -62.47886888943563, var(E): 28.589968573478686, #samples 50, #Step 0 \n",
      "\n",
      "\n",
      "mean(E): -64.49559298879547, var(E): 24.254898108008252, #samples 50, #Step 10 \n",
      "\n",
      "\n",
      "cell type:  <class 'tensorflow.python.keras.layers.recurrent.LSTMCell'>\n",
      "activation Functions <function elu at 0x7fcf0866f048>\n",
      "mean(E): -62.754747177792126, var(E): 25.518345539456273, #samples 50, #Step 0 \n",
      "\n",
      "\n",
      "mean(E): -63.60912073942246, var(E): 25.987030996101627, #samples 50, #Step 10 \n",
      "\n",
      "\n"
     ]
    }
   ],
   "source": [
    "import tensorflow as tf\n",
    "from TrainingRNN_1DTFIM import run_1DTFIM\n",
    "\n",
    "#numsteps = number of training iterations\n",
    "#systemsize = number of physical spins\n",
    "#Bx = transverse magnetic field\n",
    "#numsamples = number of samples used for training\n",
    "numsamples = 200\n",
    "#num_units = number of memory units of the hidden state of the RNN\n",
    "#num_layers = number of vertically stacked RNN cells\n",
    "\n",
    "'''\n",
    "RNNcells = [\n",
    "        tf.keras.layers.SimpleRNNCell,\n",
    "        tf.keras.layers.GRUCell,\n",
    "        tf.keras.layers.LSTMCell,\n",
    "]\n",
    "'''\n",
    "\n",
    "#This function trains a pRNN wavefunction for 1DTFIM with the corresponding hyperparams\n",
    "RNNEnergy_cell_0, varRNNEnergy_cell_0 = run_1DTFIM(RNNtype = 0, activationType = 0, numsteps = 10, systemsize = 32, Bx = +2, num_units = 40,  num_layers = 1, numsamples = 50, learningrate = 5e-4, seed = 111)\n",
    "RNNEnergy_cell_1, varRNNEnergy_cell_1 = run_1DTFIM(RNNtype = 1, activationType = 0, numsteps = 10, systemsize = 32, Bx = +2, num_units = 40,  num_layers = 1, numsamples = 50, learningrate = 5e-4, seed = 111)\n",
    "RNNEnergy_cell_2, varRNNEnergy_cell_2 = run_1DTFIM(RNNtype = 2, activationType = 0, numsteps = 10, systemsize = 32, Bx = +2, num_units = 40,  num_layers = 1, numsamples = 50, learningrate = 5e-4, seed = 111)\n"
   ]
  }
 ],
 "metadata": {
  "kernelspec": {
   "display_name": "Python 3",
   "language": "python",
   "name": "python3"
  },
  "language_info": {
   "codemirror_mode": {
    "name": "ipython",
    "version": 3
   },
   "file_extension": ".py",
   "mimetype": "text/x-python",
   "name": "python",
   "nbconvert_exporter": "python",
   "pygments_lexer": "ipython3",
   "version": "3.6.9"
  }
 },
 "nbformat": 4,
 "nbformat_minor": 5
}
