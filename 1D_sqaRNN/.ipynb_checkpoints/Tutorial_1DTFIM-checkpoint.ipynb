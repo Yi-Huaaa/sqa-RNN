{
 "cells": [
  {
   "cell_type": "code",
   "execution_count": 1,
   "metadata": {},
   "outputs": [
    {
     "name": "stdout",
     "output_type": "stream",
     "text": [
      "/home/yhc/cuda/lib64:/usr/local/cuda-11.2/lib64\n",
      "3.6.9 (default, Jan 26 2021, 15:33:00) \n",
      "[GCC 8.4.0]\n"
     ]
    }
   ],
   "source": [
    "import os, sys\n",
    "\n",
    "print(os.environ['LD_LIBRARY_PATH'])\n",
    "print(sys.version)"
   ]
  },
  {
   "cell_type": "code",
   "execution_count": 2,
   "metadata": {},
   "outputs": [
    {
     "name": "stdout",
     "output_type": "stream",
     "text": [
      "/device:GPU:0\n",
      "WARNING:tensorflow:From <ipython-input-2-97f737c9ab95>:4: is_gpu_available (from tensorflow.python.framework.test_util) is deprecated and will be removed in a future version.\n",
      "Instructions for updating:\n",
      "Use `tf.config.list_physical_devices('GPU')` instead.\n",
      "True\n",
      "[PhysicalDevice(name='/physical_device:GPU:0', device_type='GPU')]\n"
     ]
    }
   ],
   "source": [
    "import tensorflow as tf\n",
    "\n",
    "print(tf.test.gpu_device_name())\n",
    "print(tf.test.is_gpu_available())\n",
    "print(tf.config.list_physical_devices('GPU'))"
   ]
  },
  {
   "cell_type": "markdown",
   "metadata": {
    "colab_type": "text",
    "id": "64aq4ZKbZPdW"
   },
   "source": [
    "# Tutorial: Ground State of 1D Transverse-field Ferromagnetic Ising Model (TFIM) with RNN wavefunctions\n",
    "\n",
    "Code by **Mohamed Hibat Allah** and **Martin Ganahl**.\n",
    "\n"
   ]
  },
  {
   "cell_type": "markdown",
   "metadata": {
    "colab_type": "text",
    "id": "SM5KKhReRnHb"
   },
   "source": [
    "**This notebook is intended to help the reader to get familiarized with Exact Diagonalization (ED) and Positive Recurrent Neural Networks (pRNN) wavefunctions. Here, we just explore small system sizes for pedagogical purposes and to keep the running time very short.**\n",
    "\n",
    "\n",
    "Check if you specifying the right \"path\" below to the google colab notebook on Drive to make sure everything below is working properly\n",
    "\n",
    "Make sure also you use a GPU by going to \"Runtime/Change Runtime type\" in Google Colaboratory to get a speedup"
   ]
  },
  {
   "cell_type": "code",
   "execution_count": 3,
   "metadata": {
    "colab": {},
    "colab_type": "code",
    "id": "AR5TEw4sZrkm"
   },
   "outputs": [],
   "source": [
    "import numpy as np\n",
    "import matplotlib.pyplot as plt\n",
    "from matplotlib import rcParams\n",
    "\n",
    "rcParams['axes.labelsize']  = 20\n",
    "rcParams['font.serif']      = ['Computer Modern']\n",
    "rcParams['font.size']       = 10\n",
    "rcParams['legend.fontsize'] = 20\n",
    "rcParams['xtick.labelsize'] = 20\n",
    "rcParams['ytick.labelsize'] = 20"
   ]
  },
  {
   "cell_type": "markdown",
   "metadata": {
    "colab_type": "text",
    "id": "j4tkqj6qipmp"
   },
   "source": [
    "## **Calculating the ground state energy of 1DTFIM using Exact Diagonalization (ED)**"
   ]
  },
  {
   "cell_type": "markdown",
   "metadata": {
    "colab_type": "text",
    "id": "KzO3B4RWaXxA"
   },
   "source": [
    "Here, we attempt to calculate the ground state and the ground state energy of the 1D Transverse field Ising Model with Open Boundary Conditions using Exact diagonalization.\n",
    "\n",
    "The Hamiltonian is given as follows:\n",
    "\n",
    "$$\\hat{H}_{\\text{TFIM}} = - \\sum_{\\langle i,j \\rangle} \\hat{\\sigma}^{z}_i \\hat{\\sigma}^{z}_j - B_x \\sum_{i} \\hat{\\sigma}^{x}_i $$\n",
    "\n",
    "where ${\\bf \\sigma}_i$ are pauli matrices.  Here,\n",
    "$\\langle i,j \\rangle$ denote\n",
    "nearest neighbor pairs."
   ]
  },
  {
   "cell_type": "code",
   "execution_count": 4,
   "metadata": {
    "colab": {},
    "colab_type": "code",
    "id": "ssa4VPWUitU-"
   },
   "outputs": [],
   "source": [
    "def IsingMatrixElements(Jz,Bx,sigmap):\n",
    "    \"\"\"\n",
    "    computes the matrix element of the open Ising Hamiltonian for a given state sigmap\n",
    "    -----------------------------------------------------------------------------------\n",
    "    Parameters:\n",
    "    Jz: np.ndarray of shape (N), respectively, and dtype=float:\n",
    "                Ising parameters\n",
    "    sigmap:     np.ndarrray of dtype=int and shape (N)\n",
    "                spin-state, integer encoded (using 0 for down spin and 1 for up spin)\n",
    "                A sample of spins can be fed here.\n",
    "    Bx: Transvers magnetic field (N)\n",
    "    -----------------------------------------------------------------------------------            \n",
    "    Returns: 2-tuple of type (np.ndarray,np.ndarray)\n",
    "             sigmas:         np.ndarray of dtype=int and shape (?,N)\n",
    "                             the states for which there exist non-zero matrix elements for given sigmap\n",
    "             matrixelements: np.ndarray of dtype=float and shape (?)\n",
    "                             the non-zero matrix elements\n",
    "    \"\"\"\n",
    "    #the diagonal part is simply the sum of all Sz-Sz interactions\n",
    "    diag=0\n",
    "    \n",
    "    sigmas=[]\n",
    "    matrix_elements=[]\n",
    "    N = Jz.shape[0]\n",
    "    \n",
    "    for site in range(N-1):\n",
    "        if sigmap[site]==sigmap[site+1]: #if the two neighouring spins are the same (We use open Boundary Conditions)\n",
    "            diag-=Jz[site] #add a negative energy contribution (We use ferromagnetic couplings)\n",
    "        else:\n",
    "            diag+=Jz[site]\n",
    "            \n",
    "    matrix_elements.append(diag)\n",
    "    sigmas.append(sigmap)\n",
    "    \n",
    "    #off-diagonal part (For the transverse Ising Model)\n",
    "    for site in range(N):\n",
    "        if Bx[site] != 0:\n",
    "            sig = np.copy(sigmap)\n",
    "            sig[site]=np.abs(1-sig[site])\n",
    "            matrix_elements.append(-Bx[site])\n",
    "            sigmas.append(sig)    \n",
    "\n",
    "    return np.array(sigmas),np.array(matrix_elements)\n",
    "\n",
    "def ED_1DTFIM(N=10, h = 1):\n",
    "    \"\"\"\n",
    "    Returns a tuple (eta,U)\n",
    "        eta = a list of energy eigenvalues.\n",
    "        U = a list of energy eigenvectors\n",
    "    \"\"\"\n",
    "    Jz=+np.ones(N)\n",
    "    Bx=+h*np.ones(N)\n",
    "\n",
    "    basis = []\n",
    "    #Generate a z-basis\n",
    "    for i in range(2**N):\n",
    "        basis_temp = np.zeros((N))\n",
    "        a = np.array([int(d) for d in bin(i)[2:]])\n",
    "        l = len(a)\n",
    "        basis_temp[N-l:] = a\n",
    "      \n",
    "        basis.append(basis_temp)\n",
    "    basis = np.array(basis)\n",
    "      \n",
    "    H=np.zeros((basis.shape[0],basis.shape[0])) #prepare the hamiltonian\n",
    "    for n in range(basis.shape[0]):\n",
    "        sigmas,elements=IsingMatrixElements(Jz,Bx,basis[n])\n",
    "        for m in range(sigmas.shape[0]):\n",
    "            for b in range(basis.shape[0]):\n",
    "                if np.all(basis[b,:]==sigmas[m,:]):\n",
    "                    H[n,b]=elements[m]\n",
    "                    break\n",
    "    eta,U=np.linalg.eigh(H) #diagonalize\n",
    "    return eta,U\n"
   ]
  },
  {
   "cell_type": "markdown",
   "metadata": {
    "colab_type": "text",
    "id": "S7ZohOddPLWS"
   },
   "source": [
    "It may take some time to do exact diagonalization. You can try up to $N=12$ spins otherwise you have to wait for a very long time."
   ]
  },
  {
   "cell_type": "code",
   "execution_count": 5,
   "metadata": {
    "colab": {
     "base_uri": "https://localhost:8080/",
     "height": 55
    },
    "colab_type": "code",
    "executionInfo": {
     "elapsed": 26093,
     "status": "ok",
     "timestamp": 1581260415432,
     "user": {
      "displayName": "Mohamed Hibat Allah",
      "photoUrl": "https://lh4.googleusercontent.com/-NN_4cqAjH6U/AAAAAAAAAAI/AAAAAAAAA5s/M6vFCZPEjP0/s64/photo.jpg",
      "userId": "11447742370504927382"
     },
     "user_tz": 300
    },
    "id": "FrXZBzMcjGc6",
    "outputId": "8c90315c-0462-4438-d5c7-bd10a6fe817c"
   },
   "outputs": [
    {
     "name": "stdout",
     "output_type": "stream",
     "text": [
      "The ground state energy is:\n",
      "-12.381489999654754\n"
     ]
    }
   ],
   "source": [
    "eta, U = ED_1DTFIM(N=10, h = 1)\n",
    "\n",
    "print('The ground state energy is:')\n",
    "print(min(eta))\n",
    "E_exact = min(eta)"
   ]
  },
  {
   "cell_type": "markdown",
   "metadata": {
    "colab_type": "text",
    "id": "3xmDq6XVlrVh"
   },
   "source": [
    "## **Representing the ground state**"
   ]
  },
  {
   "cell_type": "markdown",
   "metadata": {
    "colab_type": "text",
    "id": "ZZf0mWkBa72x"
   },
   "source": [
    "Sometimes it is useful to represent the ground state in a plot as shown below, to know some information about the properties of the ground state, such as symmetries, sign of the amplitudes,..."
   ]
  },
  {
   "cell_type": "code",
   "execution_count": 6,
   "metadata": {
    "colab": {
     "base_uri": "https://localhost:8080/",
     "height": 411
    },
    "colab_type": "code",
    "executionInfo": {
     "elapsed": 26081,
     "status": "ok",
     "timestamp": 1581260415438,
     "user": {
      "displayName": "Mohamed Hibat Allah",
      "photoUrl": "https://lh4.googleusercontent.com/-NN_4cqAjH6U/AAAAAAAAAAI/AAAAAAAAA5s/M6vFCZPEjP0/s64/photo.jpg",
      "userId": "11447742370504927382"
     },
     "user_tz": 300
    },
    "id": "eoZ1mC7llQtS",
    "outputId": "cc3c8052-a72a-4f57-c780-68c865c2ec02"
   },
   "outputs": [
    {
     "data": {
      "image/png": "[encoded data removed]",
      "text/plain": [
       "<Figure size 720x432 with 1 Axes>"
      ]
     },
     "metadata": {
      "needs_background": "light"
     },
     "output_type": "display_data"
    }
   ],
   "source": [
    "fig, ax = plt.subplots(figsize=(10,6))\n",
    "\n",
    "ground_state = -U[:,np.nonzero(eta==np.min(eta))[0][0]]\n",
    "\n",
    "plt.plot(ground_state,label=\"Ground state\")\n",
    "\n",
    "ax.set_xlabel(r'Basis index', fontsize = 25)\n",
    "ax.set_ylabel('Amplitude', fontsize = 25)\n",
    "\n",
    "plt.show()"
   ]
  },
  {
   "cell_type": "markdown",
   "metadata": {
    "colab_type": "text",
    "id": "7wj7-yrgbh3s"
   },
   "source": [
    "We notice here that the amplitudes of the ground state in the z-basis do not change sign, hence we can use a positive recurrent neural network wavefunction (pRNN wavefunction)."
   ]
  },
  {
   "cell_type": "markdown",
   "metadata": {
    "colab_type": "text",
    "id": "p__YUOmUiuES"
   },
   "source": [
    "## **Calculating the ground state energy using an RNN wavefunction**"
   ]
  },
  {
   "cell_type": "markdown",
   "metadata": {
    "colab_type": "text",
    "id": "saskRC4Ob1rI"
   },
   "source": [
    "After that we obtained the ground state energy from exact diagonalization, we are going to value as a reference to assess the quality of the variational energy calculated by the pRNN wavefunction"
   ]
  },
  {
   "cell_type": "code",
   "execution_count": 1,
   "metadata": {
    "colab": {
     "base_uri": "https://localhost:8080/",
     "height": 1000
    },
    "colab_type": "code",
    "executionInfo": {
     "elapsed": 15478,
     "status": "ok",
     "timestamp": 1581260763138,
     "user": {
      "displayName": "Mohamed Hibat Allah",
      "photoUrl": "https://lh4.googleusercontent.com/-NN_4cqAjH6U/AAAAAAAAAAI/AAAAAAAAA5s/M6vFCZPEjP0/s64/photo.jpg",
      "userId": "11447742370504927382"
     },
     "user_tz": 300
    },
    "id": "t65l5kn5XjNa",
    "outputId": "062bf103-10e9-45a7-ffbb-7d32c9bcee26"
   },
   "outputs": [
    {
     "name": "stdout",
     "output_type": "stream",
     "text": [
      "WARNING:tensorflow:From /home/yhc/tfpip/lib/python3.6/site-packages/tensorflow/python/compat/v2_compat.py:96: disable_resource_variables (from tensorflow.python.ops.variable_scope) is deprecated and will be removed in a future version.\n",
      "Instructions for updating:\n",
      "non-resource variables are not supported in the long term\n",
      "mean(E): -10.433355130871043, var(E): 7.554505341395473, #samples 200, #Step 0 \n",
      "\n",
      "\n",
      "mean(E): -10.997085083819634, var(E): 5.30704495910814, #samples 200, #Step 10 \n",
      "\n",
      "\n",
      "mean(E): -11.75083590722887, var(E): 1.7220850025005774, #samples 200, #Step 20 \n",
      "\n",
      "\n",
      "mean(E): -11.9180245312473, var(E): 1.1643250354954666, #samples 200, #Step 30 \n",
      "\n",
      "\n",
      "mean(E): -11.986438832322966, var(E): 0.6441033978123235, #samples 200, #Step 40 \n",
      "\n",
      "\n",
      "mean(E): -12.15711147148572, var(E): 0.3861830995919894, #samples 200, #Step 50 \n",
      "\n",
      "\n",
      "mean(E): -12.217318732681008, var(E): 0.19874251064550127, #samples 200, #Step 60 \n",
      "\n",
      "\n",
      "mean(E): -12.30750364495939, var(E): 0.1517301982786312, #samples 200, #Step 70 \n",
      "\n",
      "\n",
      "mean(E): -12.32100935765017, var(E): 0.09225604290548847, #samples 200, #Step 80 \n",
      "\n",
      "\n",
      "mean(E): -12.363056075383376, var(E): 0.1289483521321081, #samples 200, #Step 90 \n",
      "\n",
      "\n",
      "mean(E): -12.353466872437147, var(E): 0.08446097932136361, #samples 200, #Step 100 \n",
      "\n",
      "\n",
      "mean(E): -12.380334804343901, var(E): 0.07090755819134832, #samples 200, #Step 110 \n",
      "\n",
      "\n",
      "mean(E): -12.345528506065264, var(E): 0.049630086175452774, #samples 200, #Step 120 \n",
      "\n",
      "\n",
      "mean(E): -12.362870431698614, var(E): 0.04949563351067957, #samples 200, #Step 130 \n",
      "\n",
      "\n",
      "mean(E): -12.35724562972643, var(E): 0.06242168348763535, #samples 200, #Step 140 \n",
      "\n",
      "\n",
      "mean(E): -12.381279549651353, var(E): 0.05370385658249388, #samples 200, #Step 150 \n",
      "\n",
      "\n",
      "mean(E): -12.370764961198388, var(E): 0.048543646711960854, #samples 200, #Step 160 \n",
      "\n",
      "\n",
      "mean(E): -12.394477943887374, var(E): 0.0486533423262804, #samples 200, #Step 170 \n",
      "\n",
      "\n",
      "mean(E): -12.368051560099188, var(E): 0.04862848100916531, #samples 200, #Step 180 \n",
      "\n",
      "\n",
      "mean(E): -12.386469678747073, var(E): 0.040234151575512585, #samples 200, #Step 190 \n",
      "\n",
      "\n",
      "mean(E): -12.359485489168499, var(E): 0.04399000222970061, #samples 200, #Step 200 \n",
      "\n",
      "\n",
      "mean(E): -12.388473097052296, var(E): 0.03511903464493811, #samples 200, #Step 210 \n",
      "\n",
      "\n",
      "mean(E): -12.366947727177836, var(E): 0.04303197092744313, #samples 200, #Step 220 \n",
      "\n",
      "\n",
      "mean(E): -12.36773345677472, var(E): 0.03763795944986501, #samples 200, #Step 230 \n",
      "\n",
      "\n",
      "mean(E): -12.37358174524687, var(E): 0.03779627911015108, #samples 200, #Step 240 \n",
      "\n",
      "\n",
      "mean(E): -12.378556518389596, var(E): 0.036210384916629625, #samples 200, #Step 250 \n",
      "\n",
      "\n",
      "mean(E): -12.372610261487894, var(E): 0.03678411026607656, #samples 200, #Step 260 \n",
      "\n",
      "\n",
      "mean(E): -12.374544488730105, var(E): 0.027499959603332957, #samples 200, #Step 270 \n",
      "\n",
      "\n",
      "mean(E): -12.360387407469082, var(E): 0.03341226557662737, #samples 200, #Step 280 \n",
      "\n",
      "\n",
      "mean(E): -12.354512483841436, var(E): 0.02536400594433425, #samples 200, #Step 290 \n",
      "\n",
      "\n",
      "mean(E): -12.352351280034004, var(E): 0.02426617747322022, #samples 200, #Step 300 \n",
      "\n",
      "\n",
      "mean(E): -12.380648963378635, var(E): 0.03466367851287405, #samples 200, #Step 310 \n",
      "\n",
      "\n",
      "mean(E): -12.373795316164555, var(E): 0.021986549250377435, #samples 200, #Step 320 \n",
      "\n",
      "\n",
      "mean(E): -12.384665952310884, var(E): 0.02443300725417348, #samples 200, #Step 330 \n",
      "\n",
      "\n",
      "mean(E): -12.341909703718784, var(E): 0.023069062534140237, #samples 200, #Step 340 \n",
      "\n",
      "\n",
      "mean(E): -12.382142887021976, var(E): 0.02811844474128432, #samples 200, #Step 350 \n",
      "\n",
      "\n",
      "mean(E): -12.372147344636655, var(E): 0.02596373719714679, #samples 200, #Step 360 \n",
      "\n",
      "\n",
      "mean(E): -12.377345783828163, var(E): 0.02700596207749027, #samples 200, #Step 370 \n",
      "\n",
      "\n",
      "mean(E): -12.385619989811078, var(E): 0.028266101391098752, #samples 200, #Step 380 \n",
      "\n",
      "\n",
      "mean(E): -12.380374545209397, var(E): 0.02579594872769909, #samples 200, #Step 390 \n",
      "\n",
      "\n",
      "mean(E): -12.38535576346756, var(E): 0.02685214247431676, #samples 200, #Step 400 \n",
      "\n",
      "\n",
      "mean(E): -12.367601331664419, var(E): 0.024567402093395332, #samples 200, #Step 410 \n",
      "\n",
      "\n",
      "mean(E): -12.39203896396571, var(E): 0.026427614076176855, #samples 200, #Step 420 \n",
      "\n",
      "\n",
      "mean(E): -12.382339096433588, var(E): 0.021871539101243634, #samples 200, #Step 430 \n",
      "\n",
      "\n",
      "mean(E): -12.381997939837838, var(E): 0.01915516889555763, #samples 200, #Step 440 \n",
      "\n",
      "\n",
      "mean(E): -12.373213045281707, var(E): 0.02613113944516668, #samples 200, #Step 450 \n",
      "\n",
      "\n",
      "mean(E): -12.371351916990479, var(E): 0.020596155366450784, #samples 200, #Step 460 \n",
      "\n",
      "\n",
      "mean(E): -12.375522521883754, var(E): 0.022400753647646255, #samples 200, #Step 470 \n",
      "\n",
      "\n",
      "mean(E): -12.382196252924706, var(E): 0.020786738880293115, #samples 200, #Step 480 \n",
      "\n",
      "\n",
      "mean(E): -12.390546562090899, var(E): 0.02492403400565376, #samples 200, #Step 490 \n",
      "\n",
      "\n",
      "mean(E): -12.381025879054855, var(E): 0.02355873300628275, #samples 200, #Step 500 \n",
      "\n",
      "\n",
      "mean(E): -12.361570736329336, var(E): 0.018009511144697135, #samples 200, #Step 510 \n",
      "\n",
      "\n",
      "mean(E): -12.369862090408793, var(E): 0.020934729176524912, #samples 200, #Step 520 \n",
      "\n",
      "\n",
      "mean(E): -12.375491236249163, var(E): 0.019621070917346467, #samples 200, #Step 530 \n",
      "\n",
      "\n",
      "mean(E): -12.390639490035635, var(E): 0.02134253271574822, #samples 200, #Step 540 \n",
      "\n",
      "\n",
      "mean(E): -12.372155195093859, var(E): 0.018503400064143274, #samples 200, #Step 550 \n",
      "\n",
      "\n",
      "mean(E): -12.380272987802806, var(E): 0.016146255490379475, #samples 200, #Step 560 \n",
      "\n",
      "\n",
      "mean(E): -12.382404440531431, var(E): 0.016169732797621898, #samples 200, #Step 570 \n",
      "\n",
      "\n",
      "mean(E): -12.378948387436868, var(E): 0.01723167059232998, #samples 200, #Step 580 \n",
      "\n",
      "\n",
      "mean(E): -12.383908292175652, var(E): 0.019149655958256115, #samples 200, #Step 590 \n",
      "\n",
      "\n",
      "mean(E): -12.360899372917531, var(E): 0.014516556813984718, #samples 200, #Step 600 \n",
      "\n",
      "\n",
      "mean(E): -12.373159768164403, var(E): 0.015320813413016294, #samples 200, #Step 610 \n",
      "\n",
      "\n",
      "mean(E): -12.370135880905682, var(E): 0.014759180109410549, #samples 200, #Step 620 \n",
      "\n",
      "\n",
      "mean(E): -12.374109781157163, var(E): 0.013416763331360111, #samples 200, #Step 630 \n",
      "\n",
      "\n",
      "mean(E): -12.375515306387683, var(E): 0.01525300225196375, #samples 200, #Step 640 \n",
      "\n",
      "\n",
      "mean(E): -12.394880623792584, var(E): 0.013036322056720184, #samples 200, #Step 650 \n",
      "\n",
      "\n",
      "mean(E): -12.364597436825601, var(E): 0.013294734130133228, #samples 200, #Step 660 \n",
      "\n",
      "\n",
      "mean(E): -12.370036320570525, var(E): 0.011455184742772651, #samples 200, #Step 670 \n",
      "\n",
      "\n",
      "mean(E): -12.380584018393488, var(E): 0.014721347029833324, #samples 200, #Step 680 \n",
      "\n",
      "\n",
      "mean(E): -12.379925298943933, var(E): 0.011198593330961171, #samples 200, #Step 690 \n",
      "\n",
      "\n",
      "mean(E): -12.378475198201881, var(E): 0.012091959004763732, #samples 200, #Step 700 \n",
      "\n",
      "\n",
      "mean(E): -12.372579818192364, var(E): 0.012017356955280714, #samples 200, #Step 710 \n",
      "\n",
      "\n",
      "mean(E): -12.368634467869041, var(E): 0.010091844526274296, #samples 200, #Step 720 \n",
      "\n",
      "\n",
      "mean(E): -12.383772158829265, var(E): 0.01129549005795245, #samples 200, #Step 730 \n",
      "\n",
      "\n",
      "mean(E): -12.385112442366811, var(E): 0.008380512873538163, #samples 200, #Step 740 \n",
      "\n",
      "\n",
      "mean(E): -12.373209205179373, var(E): 0.01556383628531219, #samples 200, #Step 750 \n",
      "\n",
      "\n",
      "mean(E): -12.369959778333541, var(E): 0.0073026984662257766, #samples 200, #Step 760 \n",
      "\n",
      "\n",
      "mean(E): -12.384498949125406, var(E): 0.009160274492118757, #samples 200, #Step 770 \n",
      "\n",
      "\n",
      "mean(E): -12.380441433419039, var(E): 0.008091019461811772, #samples 200, #Step 780 \n",
      "\n",
      "\n",
      "mean(E): -12.377987408171093, var(E): 0.008991781798194955, #samples 200, #Step 790 \n",
      "\n",
      "\n",
      "mean(E): -12.368019612320813, var(E): 0.006641869263242826, #samples 200, #Step 800 \n",
      "\n",
      "\n",
      "mean(E): -12.38209982474013, var(E): 0.009622273962143164, #samples 200, #Step 810 \n",
      "\n",
      "\n",
      "mean(E): -12.381192916447246, var(E): 0.0073568585872770065, #samples 200, #Step 820 \n",
      "\n",
      "\n",
      "mean(E): -12.38615629444118, var(E): 0.010613152819671434, #samples 200, #Step 830 \n",
      "\n",
      "\n",
      "mean(E): -12.38436141823339, var(E): 0.00743802630520863, #samples 200, #Step 840 \n",
      "\n",
      "\n",
      "mean(E): -12.38377959655104, var(E): 0.008043816846654995, #samples 200, #Step 850 \n",
      "\n",
      "\n",
      "mean(E): -12.379535511552206, var(E): 0.008563628276164878, #samples 200, #Step 860 \n",
      "\n",
      "\n",
      "mean(E): -12.381685141212449, var(E): 0.007282005071077082, #samples 200, #Step 870 \n",
      "\n",
      "\n",
      "mean(E): -12.393580449717636, var(E): 0.006235592719591752, #samples 200, #Step 880 \n",
      "\n",
      "\n",
      "mean(E): -12.378989060661773, var(E): 0.005829714103622225, #samples 200, #Step 890 \n",
      "\n",
      "\n",
      "mean(E): -12.377163826615169, var(E): 0.00653750237160316, #samples 200, #Step 900 \n",
      "\n",
      "\n",
      "mean(E): -12.394873988382212, var(E): 0.007262272792655195, #samples 200, #Step 910 \n",
      "\n",
      "\n"
     ]
    },
    {
     "name": "stdout",
     "output_type": "stream",
     "text": [
      "mean(E): -12.37675705345844, var(E): 0.0051430795182762605, #samples 200, #Step 920 \n",
      "\n",
      "\n",
      "mean(E): -12.386483138331789, var(E): 0.005615734166370036, #samples 200, #Step 930 \n",
      "\n",
      "\n",
      "mean(E): -12.375990984957502, var(E): 0.005627662630755521, #samples 200, #Step 940 \n",
      "\n",
      "\n",
      "mean(E): -12.380608009618252, var(E): 0.0044674092020014836, #samples 200, #Step 950 \n",
      "\n",
      "\n",
      "mean(E): -12.381728094666627, var(E): 0.004891873817324101, #samples 200, #Step 960 \n",
      "\n",
      "\n",
      "mean(E): -12.37975853970517, var(E): 0.004536194168653357, #samples 200, #Step 970 \n",
      "\n",
      "\n",
      "mean(E): -12.381756092297378, var(E): 0.005672508833853242, #samples 200, #Step 980 \n",
      "\n",
      "\n",
      "mean(E): -12.377697969872624, var(E): 0.005131827217040497, #samples 200, #Step 990 \n",
      "\n",
      "\n",
      "mean(E): -12.378683855982803, var(E): 0.003908756428516974, #samples 200, #Step 1000 \n",
      "\n",
      "\n"
     ]
    }
   ],
   "source": [
    "from TrainingRNN_1DTFIM import run_1DTFIM\n",
    "\n",
    "\n",
    "#numsteps = number of training iterations\n",
    "#systemsize = number of physical spins\n",
    "#Bx = transverse magnetic field\n",
    "#numsamples = number of samples used for training\n",
    "numsamples = 200\n",
    "#num_units = number of memory units of the hidden state of the RNN\n",
    "#num_layers = number of vertically stacked RNN cells\n",
    "\n",
    "#This function trains a pRNN wavefunction for 1DTFIM with the corresponding hyperparams\n",
    "RNNEnergy, varRNNEnergy = run_1DTFIM(numsteps = 1000, systemsize = 10, Bx = +1, num_units = 10,  num_layers = 1, numsamples = numsamples, learningrate = 5e-3, seed = 111)\n",
    "\n",
    "#RNNEnergy is a numpy array of the variational energy of the pRNN wavefunction\n",
    "#varRNNEnergy is a numpy array of the variance of the variational energy of the pRNN wavefunction"
   ]
  },
  {
   "cell_type": "markdown",
   "metadata": {
    "colab_type": "text",
    "id": "peYQlfmihIW-"
   },
   "source": [
    "## **Comparison of RNN results with ED**"
   ]
  },
  {
   "cell_type": "markdown",
   "metadata": {
    "colab_type": "text",
    "id": "hXamMx9PclH1"
   },
   "source": [
    "After we got the variational energies for each time step, we can now compare the RNN results with exact diagonalization"
   ]
  },
  {
   "cell_type": "code",
   "execution_count": 8,
   "metadata": {
    "colab": {
     "base_uri": "https://localhost:8080/",
     "height": 55
    },
    "colab_type": "code",
    "executionInfo": {
     "elapsed": 877,
     "status": "ok",
     "timestamp": 1581260770335,
     "user": {
      "displayName": "Mohamed Hibat Allah",
      "photoUrl": "https://lh4.googleusercontent.com/-NN_4cqAjH6U/AAAAAAAAAAI/AAAAAAAAA5s/M6vFCZPEjP0/s64/photo.jpg",
      "userId": "11447742370504927382"
     },
     "user_tz": 300
    },
    "id": "1mbmXNmgdIQP",
    "outputId": "f3eb211f-dd70-4c6f-9249-3d71a36718b1"
   },
   "outputs": [
    {
     "name": "stdout",
     "output_type": "stream",
     "text": [
      "Ground state energy =  -12.380049400323946 +- 0.0007764892604099305\n",
      "Exact ground state energy =  -12.381489999654754\n"
     ]
    }
   ],
   "source": [
    "#Computing the ground state energy by taking average over the last 100 iterations\n",
    "print(\"Ground state energy = \", np.mean(RNNEnergy[-100:]), \"+-\", np.sqrt(np.max(varRNNEnergy[-100:])/(numsamples*100))) #We use np.max(varRNNEnergy[-100:]) to estimate an upper bound on the error\n",
    "print(\"Exact ground state energy = \", E_exact)"
   ]
  },
  {
   "cell_type": "markdown",
   "metadata": {
    "colab_type": "text",
    "id": "2Z_9__WGeOHU"
   },
   "source": [
    "Amazing! We can also plot the variational energy and the energy variance where we observe convergence during the last iterations."
   ]
  },
  {
   "cell_type": "code",
   "execution_count": 9,
   "metadata": {
    "colab": {
     "base_uri": "https://localhost:8080/",
     "height": 411
    },
    "colab_type": "code",
    "executionInfo": {
     "elapsed": 1300,
     "status": "ok",
     "timestamp": 1581260778334,
     "user": {
      "displayName": "Mohamed Hibat Allah",
      "photoUrl": "https://lh4.googleusercontent.com/-NN_4cqAjH6U/AAAAAAAAAAI/AAAAAAAAA5s/M6vFCZPEjP0/s64/photo.jpg",
      "userId": "11447742370504927382"
     },
     "user_tz": 300
    },
    "id": "S6U81Z0rhHaH",
    "outputId": "b3d58e0e-26f2-4568-e65c-78b5bf39a9bf"
   },
   "outputs": [
    {
     "data": {
      "image/png": "[encoded data removed]",
      "text/plain": [
       "<Figure size 720x432 with 1 Axes>"
      ]
     },
     "metadata": {
      "needs_background": "light"
     },
     "output_type": "display_data"
    }
   ],
   "source": [
    "fig, ax = plt.subplots(figsize=(10,6))\n",
    "\n",
    "ax.plot(np.arange(1, len(RNNEnergy)+1), RNNEnergy, \"b-\", label=\"Variational energy of the RNN\")\n",
    "ax.plot(np.arange(1, len(RNNEnergy)+1), [E_exact]*len(RNNEnergy), \"k--\", label=\"Exact energy\")\n",
    "\n",
    "ax.set_xlabel(r'Training step', fontsize = 25)\n",
    "ax.set_ylabel('Variational energy', fontsize = 25)\n",
    "plt.legend()\n",
    "\n",
    "plt.show()"
   ]
  },
  {
   "cell_type": "markdown",
   "metadata": {
    "colab_type": "text",
    "id": "48mlVcvhkXAA"
   },
   "source": [
    "### **Energy variance**"
   ]
  },
  {
   "cell_type": "code",
   "execution_count": 10,
   "metadata": {
    "colab": {
     "base_uri": "https://localhost:8080/",
     "height": 411
    },
    "colab_type": "code",
    "executionInfo": {
     "elapsed": 1248,
     "status": "ok",
     "timestamp": 1581260786035,
     "user": {
      "displayName": "Mohamed Hibat Allah",
      "photoUrl": "https://lh4.googleusercontent.com/-NN_4cqAjH6U/AAAAAAAAAAI/AAAAAAAAA5s/M6vFCZPEjP0/s64/photo.jpg",
      "userId": "11447742370504927382"
     },
     "user_tz": 300
    },
    "id": "mdFR_2yHj05j",
    "outputId": "2a55d20b-bbc1-4bb0-bbde-ae652bbbeca7"
   },
   "outputs": [
    {
     "data": {
      "image/png": "[encoded data removed]",
      "text/plain": [
       "<Figure size 720x432 with 1 Axes>"
      ]
     },
     "metadata": {
      "needs_background": "light"
     },
     "output_type": "display_data"
    }
   ],
   "source": [
    "fig, ax = plt.subplots(figsize=(10,6))\n",
    "\n",
    "ax.semilogy(np.arange(1, len(RNNEnergy)+1), varRNNEnergy, \"b-\", label=\"Energy variance of the RNN\")\n",
    "\n",
    "ax.set_xlabel(r'Training step', fontsize = 25)\n",
    "ax.set_ylabel('Energy variance', fontsize = 25)\n",
    "plt.legend()\n",
    "\n",
    "plt.show()"
   ]
  },
  {
   "cell_type": "markdown",
   "metadata": {
    "colab_type": "text",
    "id": "cvav7t7Efi7O"
   },
   "source": [
    "## **Explorations**"
   ]
  },
  {
   "cell_type": "markdown",
   "metadata": {
    "colab_type": "text",
    "id": "rlcpx-jqfniT"
   },
   "source": [
    "- If you want to explore large system sizes with the pRNN wavefunction, here are some ground states energy of 1DTFIM at the critical point (Bx = 1) given by DMRG and can be considered exact:\n",
    "\n",
    "\n",
    "> N=20 : -25.1077971081\n",
    "\n",
    "> N=30 : -37.8380982304\n",
    "\n",
    "> N=40 : -50.5694337844\n",
    "\n",
    "> N=50 : -63.3011891370\n",
    "\n",
    "> N=60 : -76.0331561023\n",
    "\n",
    "> N=70 : -88.7652446334\n",
    "\n",
    "> N=80 : -101.4974094169\n",
    "\n",
    "> N=90 : -114.2296251736\n",
    "\n",
    "> N=100 : -126.9618766964\n",
    "\n",
    "> N=1000 : -1272.8762945220\n",
    "\n",
    "- You can also play with the hyperparameters (memory units, number of layers, number of samples, learning rate) to obtain better accuracies.\n",
    "\n",
    " "
   ]
  }
 ],
 "metadata": {
  "accelerator": "GPU",
  "colab": {
   "authorship_tag": "ABX9TyPnQCOwHT5nFwFq7zbNCtac",
   "collapsed_sections": [],
   "name": "Tutorial_1DTFIM.ipynb",
   "provenance": []
  },
  "kernelspec": {
   "display_name": "Python 3",
   "language": "python",
   "name": "python3"
  },
  "language_info": {
   "codemirror_mode": {
    "name": "ipython",
    "version": 3
   },
   "file_extension": ".py",
   "mimetype": "text/x-python",
   "name": "python",
   "nbconvert_exporter": "python",
   "pygments_lexer": "ipython3",
   "version": "3.6.9"
  }
 },
 "nbformat": 4,
 "nbformat_minor": 1
}
