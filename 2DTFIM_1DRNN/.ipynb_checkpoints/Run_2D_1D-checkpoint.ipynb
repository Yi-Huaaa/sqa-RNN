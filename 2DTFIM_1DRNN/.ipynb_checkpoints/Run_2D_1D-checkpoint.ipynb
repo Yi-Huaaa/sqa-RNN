{
 "cells": [
  {
   "cell_type": "code",
   "execution_count": 1,
   "id": "c337d757",
   "metadata": {},
   "outputs": [
    {
     "name": "stdout",
     "output_type": "stream",
     "text": [
      "/home/yhc/cuda/lib64:/usr/local/cuda-11.2/lib64\n",
      "3.6.9 (default, Jan 26 2021, 15:33:00) \n",
      "[GCC 8.4.0]\n"
     ]
    }
   ],
   "source": [
    "# check for cuda and python version \n",
    "import os, sys\n",
    "\n",
    "print(os.environ['LD_LIBRARY_PATH'])\n",
    "print(sys.version)"
   ]
  },
  {
   "cell_type": "code",
   "execution_count": 1,
   "id": "8036c351",
   "metadata": {},
   "outputs": [
    {
     "name": "stdout",
     "output_type": "stream",
     "text": [
      "/device:GPU:0\n",
      "WARNING:tensorflow:From <ipython-input-1-f6d867d7ca84>:5: is_gpu_available (from tensorflow.python.framework.test_util) is deprecated and will be removed in a future version.\n",
      "Instructions for updating:\n",
      "Use `tf.config.list_physical_devices('GPU')` instead.\n",
      "True\n",
      "[PhysicalDevice(name='/physical_device:GPU:0', device_type='GPU')]\n"
     ]
    }
   ],
   "source": [
    "# Check for using gpu\n",
    "import tensorflow as tf\n",
    "\n",
    "print(tf.test.gpu_device_name())\n",
    "print(tf.test.is_gpu_available())\n",
    "print(tf.config.list_physical_devices('GPU'))"
   ]
  },
  {
   "cell_type": "code",
   "execution_count": 2,
   "id": "9f2362a6",
   "metadata": {},
   "outputs": [
    {
     "name": "stdout",
     "output_type": "stream",
     "text": [
      "cell type:  <class 'tensorflow.python.keras.layers.recurrent.SimpleRNNCell'>\n",
      "activation Functions <function elu at 0x7ff186fb3488>\n",
      "mean(E): -109.13433244312078, var(E): 211.58731326406053, #samples 25, #Step 0 \n",
      "\n",
      "\n",
      "mean(E): -110.80865347502541, var(E): 253.3672113862129, #samples 25, #Step 10 \n",
      "\n",
      "\n",
      "mean(E): -127.87870870750949, var(E): 351.2841709991397, #samples 25, #Step 20 \n",
      "\n",
      "\n",
      "mean(E): -138.82626047997965, var(E): 311.0760935236032, #samples 25, #Step 30 \n",
      "\n",
      "\n",
      "mean(E): -148.07970982257285, var(E): 117.56457729584537, #samples 25, #Step 40 \n",
      "\n",
      "\n",
      "mean(E): -158.5143362473193, var(E): 221.358589647067, #samples 25, #Step 50 \n",
      "\n",
      "\n",
      "mean(E): -168.07844611628653, var(E): 152.0997048895553, #samples 25, #Step 60 \n",
      "\n",
      "\n",
      "mean(E): -172.6523823245391, var(E): 64.09965611767203, #samples 25, #Step 70 \n",
      "\n",
      "\n",
      "mean(E): -176.73764315168012, var(E): 42.64947784664708, #samples 25, #Step 80 \n",
      "\n",
      "\n",
      "mean(E): -181.10148999908452, var(E): 64.15779124934086, #samples 25, #Step 90 \n",
      "\n",
      "\n",
      "mean(E): -181.28624726514641, var(E): 66.46834515983247, #samples 25, #Step 100 \n",
      "\n",
      "\n"
     ]
    }
   ],
   "source": [
    "# training, success\n",
    "import tensorflow as tf\n",
    "from Training1DRNN_2DTFIM import run_2DTFIM\n",
    "\n",
    "RNNEnergy, varRNNEnergy = run_2DTFIM(RNNtype = 0, activationType = 0, numsteps = 100, systemsize_x = 10, systemsize_y = 10, Bx = 1, num_units = 40, num_layers = 1, numsamples = 25, learningrate = 1e-4, seed = 333)\n"
   ]
  },
  {
   "cell_type": "code",
   "execution_count": null,
   "id": "65d2bd60",
   "metadata": {},
   "outputs": [],
   "source": []
  }
 ],
 "metadata": {
  "kernelspec": {
   "display_name": "Python 3",
   "language": "python",
   "name": "python3"
  },
  "language_info": {
   "codemirror_mode": {
    "name": "ipython",
    "version": 3
   },
   "file_extension": ".py",
   "mimetype": "text/x-python",
   "name": "python",
   "nbconvert_exporter": "python",
   "pygments_lexer": "ipython3",
   "version": "3.6.9"
  }
 },
 "nbformat": 4,
 "nbformat_minor": 5
}
