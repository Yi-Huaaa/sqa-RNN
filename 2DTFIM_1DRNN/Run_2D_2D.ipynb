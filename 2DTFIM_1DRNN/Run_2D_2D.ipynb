{
 "cells": [
  {
   "cell_type": "code",
   "execution_count": 1,
   "id": "b3df83f6",
   "metadata": {},
   "outputs": [
    {
     "name": "stdout",
     "output_type": "stream",
     "text": [
      "/home/yhc/cuda/lib64:/usr/local/cuda-11.2/lib64\n",
      "3.6.9 (default, Jan 26 2021, 15:33:00) \n",
      "[GCC 8.4.0]\n"
     ]
    }
   ],
   "source": [
    "# check for cuda and python version \n",
    "import os, sys\n",
    "\n",
    "print(os.environ['LD_LIBRARY_PATH'])\n",
    "print(sys.version)"
   ]
  },
  {
   "cell_type": "code",
   "execution_count": 2,
   "id": "f06bd2c3",
   "metadata": {},
   "outputs": [
    {
     "name": "stdout",
     "output_type": "stream",
     "text": [
      "/device:GPU:0\n",
      "WARNING:tensorflow:From <ipython-input-2-f6d867d7ca84>:5: is_gpu_available (from tensorflow.python.framework.test_util) is deprecated and will be removed in a future version.\n",
      "Instructions for updating:\n",
      "Use `tf.config.list_physical_devices('GPU')` instead.\n",
      "True\n",
      "[PhysicalDevice(name='/physical_device:GPU:0', device_type='GPU')]\n"
     ]
    }
   ],
   "source": [
    "# Check for using gpu\n",
    "import tensorflow as tf\n",
    "\n",
    "print(tf.test.gpu_device_name())\n",
    "print(tf.test.is_gpu_available())\n",
    "print(tf.config.list_physical_devices('GPU'))"
   ]
  },
  {
   "cell_type": "code",
   "execution_count": 1,
   "id": "da45df17",
   "metadata": {},
   "outputs": [
    {
     "name": "stdout",
     "output_type": "stream",
     "text": [
      "mean(E): -19.699501204480818, var(E): 16.727365770426886, #samples 25, #Step 0 \n",
      "\n",
      "\n",
      "mean(E): -18.788903873066623, var(E): 17.2369672966423, #samples 25, #Step 10 \n",
      "\n",
      "\n",
      "mean(E): -19.077833428527573, var(E): 16.798919937271947, #samples 25, #Step 20 \n",
      "\n",
      "\n",
      "mean(E): -19.63573155083673, var(E): 25.82389026511114, #samples 25, #Step 30 \n",
      "\n",
      "\n",
      "mean(E): -20.723932973880423, var(E): 26.26338390639405, #samples 25, #Step 40 \n",
      "\n",
      "\n",
      "mean(E): -23.496489042751247, var(E): 16.922180139463155, #samples 25, #Step 50 \n",
      "\n",
      "\n",
      "mean(E): -22.08515668935905, var(E): 10.669400792497923, #samples 25, #Step 60 \n",
      "\n",
      "\n",
      "mean(E): -23.413800746515545, var(E): 17.448514841807572, #samples 25, #Step 70 \n",
      "\n",
      "\n",
      "mean(E): -22.445556800644496, var(E): 19.53186731688973, #samples 25, #Step 80 \n",
      "\n",
      "\n",
      "mean(E): -23.31065742767892, var(E): 21.328935651363487, #samples 25, #Step 90 \n",
      "\n",
      "\n",
      "mean(E): -23.400849018778683, var(E): 9.113820433237509, #samples 25, #Step 100 \n",
      "\n",
      "\n"
     ]
    }
   ],
   "source": [
    "# spins = 10x10\n",
    "import tensorflow as tf\n",
    "from Training2DRNN_2DTFIM import run_2DTFIM\n",
    "\n",
    "RNNEnergy1010, varRNNEnergy1010 = run_2DTFIM(numsteps = 1000, systemsize_x = 10, systemsize_y = 10, Bx = 1, num_units = 40, numsamples = 25, learningrate = 1e-4, seed = 333)\n"
   ]
  },
  {
   "cell_type": "code",
   "execution_count": null,
   "id": "ab70ba8e",
   "metadata": {},
   "outputs": [],
   "source": [
    "# spins = 40x40\n",
    "import tensorflow as tf\n",
    "from Training2DRNN_2DTFIM import run_2DTFIM\n",
    "\n",
    "RNNEnergy4040, varRNNEnergy4040 = run_2DTFIM(numsteps = 1000, systemsize_x = 40, systemsize_y = 40, Bx = 1, num_units = 40, numsamples = 25, learningrate = 1e-4, seed = 333)\n"
   ]
  },
  {
   "cell_type": "markdown",
   "id": "07329079",
   "metadata": {},
   "source": [
    "### Results"
   ]
  },
  {
   "cell_type": "code",
   "execution_count": null,
   "id": "53efd6e9",
   "metadata": {},
   "outputs": [],
   "source": [
    "plot"
   ]
  }
 ],
 "metadata": {
  "kernelspec": {
   "display_name": "Python 3",
   "language": "python",
   "name": "python3"
  },
  "language_info": {
   "codemirror_mode": {
    "name": "ipython",
    "version": 3
   },
   "file_extension": ".py",
   "mimetype": "text/x-python",
   "name": "python",
   "nbconvert_exporter": "python",
   "pygments_lexer": "ipython3",
   "version": "3.6.9"
  }
 },
 "nbformat": 4,
 "nbformat_minor": 5
}
