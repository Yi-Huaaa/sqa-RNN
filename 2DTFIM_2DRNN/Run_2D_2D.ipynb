{
 "cells": [
  {
   "cell_type": "code",
   "execution_count": null,
   "id": "da45df17",
   "metadata": {},
   "outputs": [],
   "source": [
    "# run\n",
    "from Training2DRNN_2DTFIM import run_2DTFIM\n",
    "\n",
    "#numsteps = number of training iterations\n",
    "#systemsize_x = the size of the x-dimension of the square lattice\n",
    "#systemsize_x = the size of the y-dimension of the square lattice\n",
    "#Bx = transverse magnetic field\n",
    "#numsamples = number of samples used for training\n",
    "#num_units = number of memory units of the hidden state of the RNN\n",
    "#num_layers is not supported yet, stay tuned!\n",
    "RNNEnergy, varRNNEnergy = run_2DTFIM(numsteps = 2*10**4, systemsize_x = 4, systemsize_y = 4, Bx = 3, num_units = 50, numsamples = 500, learningrate = 5e-3, seed = 111)\n",
    "\n",
    "#RNNEnergy is a numpy array of the variational energy of the pRNN wavefunction\n",
    "#varRNNEnergy is a numpy array of the variance of the variational energy of the pRNN wavefunction\n"
   ]
  }
 ],
 "metadata": {
  "kernelspec": {
   "display_name": "Python 3",
   "language": "python",
   "name": "python3"
  },
  "language_info": {
   "codemirror_mode": {
    "name": "ipython",
    "version": 3
   },
   "file_extension": ".py",
   "mimetype": "text/x-python",
   "name": "python",
   "nbconvert_exporter": "python",
   "pygments_lexer": "ipython3",
   "version": "3.6.9"
  }
 },
 "nbformat": 4,
 "nbformat_minor": 5
}
