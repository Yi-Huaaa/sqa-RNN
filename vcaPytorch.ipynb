{
 "cells": [
  {
   "cell_type": "code",
   "execution_count": 12,
   "id": "cbcf9538",
   "metadata": {},
   "outputs": [],
   "source": [
    "from __future__ import print_function\n",
    "import argparse\n",
    "import torch\n",
    "import torch.nn as nn\n",
    "import torch.nn.functional as F\n",
    "import torch.optim as optim\n",
    "from torchvision import datasets, transforms\n",
    "from torch.optim.lr_scheduler import StepLR\n",
    "\n"
   ]
  },
  {
   "cell_type": "code",
   "execution_count": 14,
   "id": "617e112e",
   "metadata": {},
   "outputs": [],
   "source": [
    "# spin number\n",
    "N = 10\n",
    "dim_v = 2\n",
    "dim_h = 10\n",
    "\n",
    "# Model\n",
    "# 假設現在只有10個spin\n",
    "\n",
    "class Net(nn.Module):\n",
    "    def __init__(self, dim_v, dim_h, N):\n",
    "        '''\n",
    "        放上網路裡面有什麼功能\n",
    "        '''\n",
    "        super(Net, self).__init__()\n",
    "        self.hidden_dim = dim_h\n",
    "        #nn.Linear 裡面要放 matrix W 的維度\n",
    "        self.parameters = [nn.Linear(dim_h, (dim_h+dim_v))]*N\n",
    "        #這個self.hidden2out的linear是接，softmax的linear，這個做完之後丟進softmax\n",
    "        self.hidden2out = [nn.Linear(dim_v, dim_h)]*N\n",
    "        \n",
    "\n",
    "    def forward(self, hidden, one_hot_spin):\n",
    "        '''\n",
    "        放上根據上面的功能，我們的網絡是怎麼連接功能的，最後要有一個return 值\n",
    "        ''' \n",
    "        # init, dimension在這邊可能不對 \n",
    "        temp_linear1 = [0]*N\n",
    "        temp_linear2 = [0]*N\n",
    "        zero_or_one = [[0]*dim_v]*N\n",
    "        spin = [0]*N\n",
    "        for i in range(N):\n",
    "            # Linear = W[𝜎;h]+b\n",
    "            temp_linear1[i] = self.parameters[i](hidden[i] + one_hot_spin[i])\n",
    "            # ELU: https://pytorch.org/docs/stable/generated/torch.nn.ELU.html\n",
    "            ###!!!!!!!這裡的idx可能是錯的（滾滾滾\n",
    "            hidden[i+1] = nn.ELU(temp_linear1[i])\n",
    "            # 進去softmax前的linear，(Un*hn+cn), 我不確定dim_h是不是這樣餵ＱＱ\n",
    "            temp_linear2[i] = self.hidden2out[i](hidden[i+1])\n",
    "            # 進去softmax\n",
    "            zero_or_one[i] = F.softmax(temp_linear2[i], dim = dim_h)\n",
    "            # torch.mm 內積：內積mm(, spin[i])         \n",
    "        return zero_or_one\n",
    "\n"
   ]
  },
  {
   "cell_type": "code",
   "execution_count": 31,
   "id": "abc92975",
   "metadata": {},
   "outputs": [],
   "source": [
    "# calculate Hamiltonian\n",
    "def calculate_Ham (spin, J):\n",
    "    Hamiltonain = 0\n",
    "    for i in range (N-1):\n",
    "        Hamiltonain += (spin[i]*spin[i+1]*J[i])\n",
    "    return Hamiltonain\n",
    "def Sample(zero_or_one):\n",
    "    spin = [0]*N\n",
    "    for i in range (N):\n",
    "        spin[i] = 2*(zero_or_one[i].argmax(dim=1, keepdim=True))-1\n",
    "    return spin\n",
    "\n",
    "epochs = 5\n",
    "# Train cell\n",
    "\n",
    "def train(model, training_data, optimizer, data_num, J, ground_Ham, epoch):\n",
    "    model.train()\n",
    "    \n",
    "    # data_num：指的是有幾組 data\n",
    "    Hamiltonian = [0]*data_num\n",
    "    hidden = [[0]*dim_h]*N # 怎麼那麼複雜啊（滾滾滾\n",
    "    # 亂給的，要調整\n",
    "    hidden[0] = [0.5]*dim_h\n",
    "    running_loss = 0.0\n",
    "    zero_or_one = [[0]*dim_v]*N\n",
    "    \n",
    "    for running_dataNum in range (data_num):\n",
    "        optimizer.zero_grad() \n",
    "        zero_or_one = model.forward(hidden, one_hot_spin)\n",
    "        spin = Sample(zero_or_one)\n",
    "        Hamiltonian[running_dataNum] = calculate_Ham(spin, J)\n",
    "        running_loss = (Hamiltonian[running_dataNum] - ground_Ham)\n",
    "        running_loss.backward()\n",
    "        optimizer.step()\n",
    "        print('epoch = ', epoch,', running_dataNum = ', running_dataNum,', running_loss = ', running_loss)\n",
    "    print('Epoch =', epoch, ' Training Finished,', ', Running_loss = ', running_loss)"
   ]
  },
  {
   "cell_type": "code",
   "execution_count": null,
   "id": "e48ed71e",
   "metadata": {},
   "outputs": [],
   "source": [
    "# Test cell\n",
    "def test(model, testing_data, data_num, J, ground_Ham):\n",
    "    model.eval()\n",
    "    test_loss = 0\n",
    "    with torch.no_grad():\n",
    "        for running_dataNum in range(data_num):\n",
    "            spin, hidden = mode.forward(spin, hidden, one_hot_spin)\n",
    "            Hamiltonian[running_dataNum] = calculate_Ham(spin, J)\n",
    "            test_loss = (Hamiltonian[running_dataNum] - ground_Ham)\n",
    "            print('Testing num = ', running_dataNum, 'test_loss = ', test_loss)"
   ]
  },
  {
   "cell_type": "code",
   "execution_count": 32,
   "id": "00764367",
   "metadata": {},
   "outputs": [
    {
     "ename": "TypeError",
     "evalue": "parameters() missing 1 required positional argument: 'self'",
     "output_type": "error",
     "traceback": [
      "\u001b[0;31m---------------------------------------------------------------------------\u001b[0m",
      "\u001b[0;31mTypeError\u001b[0m                                 Traceback (most recent call last)",
      "\u001b[0;32m<ipython-input-32-c2fe47fde8a1>\u001b[0m in \u001b[0;36m<module>\u001b[0;34m\u001b[0m\n\u001b[1;32m     18\u001b[0m \u001b[0;34m\u001b[0m\u001b[0m\n\u001b[1;32m     19\u001b[0m \u001b[0;32mif\u001b[0m \u001b[0m__name__\u001b[0m \u001b[0;34m==\u001b[0m \u001b[0;34m'__main__'\u001b[0m\u001b[0;34m:\u001b[0m\u001b[0;34m\u001b[0m\u001b[0;34m\u001b[0m\u001b[0m\n\u001b[0;32m---> 20\u001b[0;31m     \u001b[0mmain\u001b[0m\u001b[0;34m(\u001b[0m\u001b[0;34m)\u001b[0m\u001b[0;34m\u001b[0m\u001b[0;34m\u001b[0m\u001b[0m\n\u001b[0m",
      "\u001b[0;32m<ipython-input-32-c2fe47fde8a1>\u001b[0m in \u001b[0;36mmain\u001b[0;34m()\u001b[0m\n\u001b[1;32m      7\u001b[0m     \u001b[0mmodel\u001b[0m \u001b[0;34m=\u001b[0m \u001b[0mNet\u001b[0m\u001b[0;34m(\u001b[0m\u001b[0mdim_v\u001b[0m\u001b[0;34m,\u001b[0m \u001b[0mdim_h\u001b[0m\u001b[0;34m,\u001b[0m \u001b[0mN\u001b[0m\u001b[0;34m)\u001b[0m\u001b[0;34m\u001b[0m\u001b[0;34m\u001b[0m\u001b[0m\n\u001b[1;32m      8\u001b[0m     \u001b[0;31m# optimizer\u001b[0m\u001b[0;34m\u001b[0m\u001b[0;34m\u001b[0m\u001b[0;34m\u001b[0m\u001b[0m\n\u001b[0;32m----> 9\u001b[0;31m     \u001b[0moptimizer\u001b[0m \u001b[0;34m=\u001b[0m \u001b[0moptim\u001b[0m\u001b[0;34m.\u001b[0m\u001b[0mSGD\u001b[0m\u001b[0;34m(\u001b[0m\u001b[0mNet\u001b[0m\u001b[0;34m.\u001b[0m\u001b[0mparameters\u001b[0m\u001b[0;34m(\u001b[0m\u001b[0;34m)\u001b[0m\u001b[0;34m,\u001b[0m \u001b[0mlr\u001b[0m\u001b[0;34m=\u001b[0m\u001b[0;36m0.002\u001b[0m\u001b[0;34m,\u001b[0m \u001b[0mmomentum\u001b[0m\u001b[0;34m=\u001b[0m\u001b[0;36m0.9\u001b[0m\u001b[0;34m)\u001b[0m\u001b[0;34m\u001b[0m\u001b[0;34m\u001b[0m\u001b[0m\n\u001b[0m\u001b[1;32m     10\u001b[0m     \u001b[0;31m# StepLR\u001b[0m\u001b[0;34m\u001b[0m\u001b[0;34m\u001b[0m\u001b[0;34m\u001b[0m\u001b[0m\n\u001b[1;32m     11\u001b[0m     \u001b[0;31m#scheduler = StepLR(optimizer, step_size=1, gamma=args.gamma)\u001b[0m\u001b[0;34m\u001b[0m\u001b[0;34m\u001b[0m\u001b[0;34m\u001b[0m\u001b[0m\n",
      "\u001b[0;31mTypeError\u001b[0m: parameters() missing 1 required positional argument: 'self'"
     ]
    }
   ],
   "source": [
    "def main():\n",
    "    # readin data\n",
    "    '''\n",
    "    TODO\n",
    "    '''\n",
    "    # construct model\n",
    "    model = Net(dim_v, dim_h, N)\n",
    "    # optimizer\n",
    "    optimizer = optim.SGD(Net.parameters(), lr=0.002, momentum=0.9)\n",
    "    # StepLR\n",
    "    #scheduler = StepLR(optimizer, step_size=1, gamma=args.gamma)\n",
    "    \n",
    "    for epoch in range(epochs):\n",
    "        train(model, training_data, optimizer, data_num, J, ground_Ham, epoch)\n",
    "        test(model, device, test_loader)\n",
    "        #scheduler.step()\n",
    "\n",
    "        \n",
    "if __name__ == '__main__':\n",
    "    main()"
   ]
  },
  {
   "cell_type": "code",
   "execution_count": 30,
   "id": "27ad8d64",
   "metadata": {},
   "outputs": [
    {
     "name": "stdout",
     "output_type": "stream",
     "text": [
      "before: a = [1, 2, 3, 4, 5]\n",
      "before: b = [888, 999, 10000]\n",
      "after: c =  [100, 2, 200, 4, 5]\n",
      "after: d =  [1212, 999, 10000]\n"
     ]
    }
   ],
   "source": [
    "# try\n",
    "def trying(A, B):\n",
    "    A[0]=100\n",
    "    A[2]=200\n",
    "    B[0] = 1212\n",
    "    return A, B\n",
    "    \n",
    "a = [1,2,3,4,5]\n",
    "b = [888, 999, 10000]\n",
    "print('before: a =', a)\n",
    "print('before: b =', b)\n",
    "c=[]\n",
    "d=[]\n",
    "c,d = trying(a,b)\n",
    "print('after: c = ', c)\n",
    "print('after: d = ', d)"
   ]
  },
  {
   "cell_type": "code",
   "execution_count": 33,
   "id": "13a86d6f",
   "metadata": {},
   "outputs": [
    {
     "ename": "AttributeError",
     "evalue": "'list' object has no attribute 'backward'",
     "output_type": "error",
     "traceback": [
      "\u001b[0;31m---------------------------------------------------------------------------\u001b[0m",
      "\u001b[0;31mAttributeError\u001b[0m                            Traceback (most recent call last)",
      "\u001b[0;32m<ipython-input-33-dda4cdbc7884>\u001b[0m in \u001b[0;36m<module>\u001b[0;34m\u001b[0m\n\u001b[1;32m      1\u001b[0m \u001b[0mspin\u001b[0m\u001b[0;34m=\u001b[0m\u001b[0;34m[\u001b[0m\u001b[0;36m1\u001b[0m\u001b[0;34m,\u001b[0m\u001b[0;36m2\u001b[0m\u001b[0;34m,\u001b[0m\u001b[0;36m3\u001b[0m\u001b[0;34m]\u001b[0m\u001b[0;34m\u001b[0m\u001b[0;34m\u001b[0m\u001b[0m\n\u001b[0;32m----> 2\u001b[0;31m \u001b[0mspin\u001b[0m\u001b[0;34m.\u001b[0m\u001b[0mbackward\u001b[0m\u001b[0;34m(\u001b[0m\u001b[0;34m)\u001b[0m\u001b[0;34m\u001b[0m\u001b[0;34m\u001b[0m\u001b[0m\n\u001b[0m",
      "\u001b[0;31mAttributeError\u001b[0m: 'list' object has no attribute 'backward'"
     ]
    }
   ],
   "source": [
    "spin=[1,2,3]\n",
    "spin.backward()"
   ]
  },
  {
   "cell_type": "code",
   "execution_count": null,
   "id": "d30aa802",
   "metadata": {},
   "outputs": [],
   "source": []
  }
 ],
 "metadata": {
  "kernelspec": {
   "display_name": "Python 3",
   "language": "python",
   "name": "python3"
  },
  "language_info": {
   "codemirror_mode": {
    "name": "ipython",
    "version": 3
   },
   "file_extension": ".py",
   "mimetype": "text/x-python",
   "name": "python",
   "nbconvert_exporter": "python",
   "pygments_lexer": "ipython3",
   "version": "3.8.10"
  }
 },
 "nbformat": 4,
 "nbformat_minor": 5
}
